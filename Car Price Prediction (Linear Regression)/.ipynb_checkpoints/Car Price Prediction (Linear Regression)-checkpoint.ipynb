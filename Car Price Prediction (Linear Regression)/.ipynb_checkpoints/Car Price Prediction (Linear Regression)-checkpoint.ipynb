{
 "cells": [
  {
   "cell_type": "markdown",
   "id": "b4c7a31d",
   "metadata": {},
   "source": [
    "# Importing Libraries"
   ]
  },
  {
   "cell_type": "code",
   "execution_count": 1,
   "id": "148114bf",
   "metadata": {},
   "outputs": [],
   "source": [
    "import numpy as np\n",
    "import pandas as pd\n",
    "import matplotlib.pyplot as plt\n",
    "import seaborn as sns\n",
    "from sklearn.model_selection import train_test_split\n",
    "from sklearn.linear_model import LinearRegression\n",
    "from sklearn.linear_model import Lasso\n",
    "from sklearn import metrics"
   ]
  },
  {
   "cell_type": "markdown",
   "id": "552261bd",
   "metadata": {},
   "source": [
    "# Data Collection and preprocessing"
   ]
  },
  {
   "cell_type": "code",
   "execution_count": 2,
   "id": "cc9d203a",
   "metadata": {},
   "outputs": [
    {
     "data": {
      "text/html": [
       "<div>\n",
       "<style scoped>\n",
       "    .dataframe tbody tr th:only-of-type {\n",
       "        vertical-align: middle;\n",
       "    }\n",
       "\n",
       "    .dataframe tbody tr th {\n",
       "        vertical-align: top;\n",
       "    }\n",
       "\n",
       "    .dataframe thead th {\n",
       "        text-align: right;\n",
       "    }\n",
       "</style>\n",
       "<table border=\"1\" class=\"dataframe\">\n",
       "  <thead>\n",
       "    <tr style=\"text-align: right;\">\n",
       "      <th></th>\n",
       "      <th>name</th>\n",
       "      <th>year</th>\n",
       "      <th>selling_price</th>\n",
       "      <th>km_driven</th>\n",
       "      <th>fuel</th>\n",
       "      <th>seller_type</th>\n",
       "      <th>transmission</th>\n",
       "      <th>owner</th>\n",
       "    </tr>\n",
       "  </thead>\n",
       "  <tbody>\n",
       "    <tr>\n",
       "      <th>0</th>\n",
       "      <td>Maruti 800 AC</td>\n",
       "      <td>2007</td>\n",
       "      <td>60000</td>\n",
       "      <td>70000</td>\n",
       "      <td>Petrol</td>\n",
       "      <td>Individual</td>\n",
       "      <td>Manual</td>\n",
       "      <td>First Owner</td>\n",
       "    </tr>\n",
       "    <tr>\n",
       "      <th>1</th>\n",
       "      <td>Maruti Wagon R LXI Minor</td>\n",
       "      <td>2007</td>\n",
       "      <td>135000</td>\n",
       "      <td>50000</td>\n",
       "      <td>Petrol</td>\n",
       "      <td>Individual</td>\n",
       "      <td>Manual</td>\n",
       "      <td>First Owner</td>\n",
       "    </tr>\n",
       "    <tr>\n",
       "      <th>2</th>\n",
       "      <td>Hyundai Verna 1.6 SX</td>\n",
       "      <td>2012</td>\n",
       "      <td>600000</td>\n",
       "      <td>100000</td>\n",
       "      <td>Diesel</td>\n",
       "      <td>Individual</td>\n",
       "      <td>Manual</td>\n",
       "      <td>First Owner</td>\n",
       "    </tr>\n",
       "    <tr>\n",
       "      <th>3</th>\n",
       "      <td>Datsun RediGO T Option</td>\n",
       "      <td>2017</td>\n",
       "      <td>250000</td>\n",
       "      <td>46000</td>\n",
       "      <td>Petrol</td>\n",
       "      <td>Individual</td>\n",
       "      <td>Manual</td>\n",
       "      <td>First Owner</td>\n",
       "    </tr>\n",
       "    <tr>\n",
       "      <th>4</th>\n",
       "      <td>Honda Amaze VX i-DTEC</td>\n",
       "      <td>2014</td>\n",
       "      <td>450000</td>\n",
       "      <td>141000</td>\n",
       "      <td>Diesel</td>\n",
       "      <td>Individual</td>\n",
       "      <td>Manual</td>\n",
       "      <td>Second Owner</td>\n",
       "    </tr>\n",
       "    <tr>\n",
       "      <th>...</th>\n",
       "      <td>...</td>\n",
       "      <td>...</td>\n",
       "      <td>...</td>\n",
       "      <td>...</td>\n",
       "      <td>...</td>\n",
       "      <td>...</td>\n",
       "      <td>...</td>\n",
       "      <td>...</td>\n",
       "    </tr>\n",
       "    <tr>\n",
       "      <th>4335</th>\n",
       "      <td>Hyundai i20 Magna 1.4 CRDi (Diesel)</td>\n",
       "      <td>2014</td>\n",
       "      <td>409999</td>\n",
       "      <td>80000</td>\n",
       "      <td>Diesel</td>\n",
       "      <td>Individual</td>\n",
       "      <td>Manual</td>\n",
       "      <td>Second Owner</td>\n",
       "    </tr>\n",
       "    <tr>\n",
       "      <th>4336</th>\n",
       "      <td>Hyundai i20 Magna 1.4 CRDi</td>\n",
       "      <td>2014</td>\n",
       "      <td>409999</td>\n",
       "      <td>80000</td>\n",
       "      <td>Diesel</td>\n",
       "      <td>Individual</td>\n",
       "      <td>Manual</td>\n",
       "      <td>Second Owner</td>\n",
       "    </tr>\n",
       "    <tr>\n",
       "      <th>4337</th>\n",
       "      <td>Maruti 800 AC BSIII</td>\n",
       "      <td>2009</td>\n",
       "      <td>110000</td>\n",
       "      <td>83000</td>\n",
       "      <td>Petrol</td>\n",
       "      <td>Individual</td>\n",
       "      <td>Manual</td>\n",
       "      <td>Second Owner</td>\n",
       "    </tr>\n",
       "    <tr>\n",
       "      <th>4338</th>\n",
       "      <td>Hyundai Creta 1.6 CRDi SX Option</td>\n",
       "      <td>2016</td>\n",
       "      <td>865000</td>\n",
       "      <td>90000</td>\n",
       "      <td>Diesel</td>\n",
       "      <td>Individual</td>\n",
       "      <td>Manual</td>\n",
       "      <td>First Owner</td>\n",
       "    </tr>\n",
       "    <tr>\n",
       "      <th>4339</th>\n",
       "      <td>Renault KWID RXT</td>\n",
       "      <td>2016</td>\n",
       "      <td>225000</td>\n",
       "      <td>40000</td>\n",
       "      <td>Petrol</td>\n",
       "      <td>Individual</td>\n",
       "      <td>Manual</td>\n",
       "      <td>First Owner</td>\n",
       "    </tr>\n",
       "  </tbody>\n",
       "</table>\n",
       "<p>4340 rows × 8 columns</p>\n",
       "</div>"
      ],
      "text/plain": [
       "                                     name  year  selling_price  km_driven  \\\n",
       "0                           Maruti 800 AC  2007          60000      70000   \n",
       "1                Maruti Wagon R LXI Minor  2007         135000      50000   \n",
       "2                    Hyundai Verna 1.6 SX  2012         600000     100000   \n",
       "3                  Datsun RediGO T Option  2017         250000      46000   \n",
       "4                   Honda Amaze VX i-DTEC  2014         450000     141000   \n",
       "...                                   ...   ...            ...        ...   \n",
       "4335  Hyundai i20 Magna 1.4 CRDi (Diesel)  2014         409999      80000   \n",
       "4336           Hyundai i20 Magna 1.4 CRDi  2014         409999      80000   \n",
       "4337                  Maruti 800 AC BSIII  2009         110000      83000   \n",
       "4338     Hyundai Creta 1.6 CRDi SX Option  2016         865000      90000   \n",
       "4339                     Renault KWID RXT  2016         225000      40000   \n",
       "\n",
       "        fuel seller_type transmission         owner  \n",
       "0     Petrol  Individual       Manual   First Owner  \n",
       "1     Petrol  Individual       Manual   First Owner  \n",
       "2     Diesel  Individual       Manual   First Owner  \n",
       "3     Petrol  Individual       Manual   First Owner  \n",
       "4     Diesel  Individual       Manual  Second Owner  \n",
       "...      ...         ...          ...           ...  \n",
       "4335  Diesel  Individual       Manual  Second Owner  \n",
       "4336  Diesel  Individual       Manual  Second Owner  \n",
       "4337  Petrol  Individual       Manual  Second Owner  \n",
       "4338  Diesel  Individual       Manual   First Owner  \n",
       "4339  Petrol  Individual       Manual   First Owner  \n",
       "\n",
       "[4340 rows x 8 columns]"
      ]
     },
     "execution_count": 2,
     "metadata": {},
     "output_type": "execute_result"
    }
   ],
   "source": [
    "#Loading the Dataset\n",
    "car_dataset = pd.read_csv('CAR DETAILS FROM CAR DEKHO.csv')\n",
    "car_dataset"
   ]
  },
  {
   "cell_type": "code",
   "execution_count": 3,
   "id": "0160ca7e",
   "metadata": {},
   "outputs": [
    {
     "data": {
      "text/plain": [
       "(4340, 8)"
      ]
     },
     "execution_count": 3,
     "metadata": {},
     "output_type": "execute_result"
    }
   ],
   "source": [
    "# checking the number of rows and columns\n",
    "car_dataset.shape"
   ]
  },
  {
   "cell_type": "code",
   "execution_count": 4,
   "id": "1089f68c",
   "metadata": {},
   "outputs": [
    {
     "name": "stdout",
     "output_type": "stream",
     "text": [
      "<class 'pandas.core.frame.DataFrame'>\n",
      "RangeIndex: 4340 entries, 0 to 4339\n",
      "Data columns (total 8 columns):\n",
      " #   Column         Non-Null Count  Dtype \n",
      "---  ------         --------------  ----- \n",
      " 0   name           4340 non-null   object\n",
      " 1   year           4340 non-null   int64 \n",
      " 2   selling_price  4340 non-null   int64 \n",
      " 3   km_driven      4340 non-null   int64 \n",
      " 4   fuel           4340 non-null   object\n",
      " 5   seller_type    4340 non-null   object\n",
      " 6   transmission   4340 non-null   object\n",
      " 7   owner          4340 non-null   object\n",
      "dtypes: int64(3), object(5)\n",
      "memory usage: 271.4+ KB\n"
     ]
    }
   ],
   "source": [
    "# getting some information about the dataset\n",
    "car_dataset.info()"
   ]
  },
  {
   "cell_type": "code",
   "execution_count": 5,
   "id": "482ca546",
   "metadata": {},
   "outputs": [
    {
     "data": {
      "text/plain": [
       "name             0\n",
       "year             0\n",
       "selling_price    0\n",
       "km_driven        0\n",
       "fuel             0\n",
       "seller_type      0\n",
       "transmission     0\n",
       "owner            0\n",
       "dtype: int64"
      ]
     },
     "execution_count": 5,
     "metadata": {},
     "output_type": "execute_result"
    }
   ],
   "source": [
    "# checking the number of missing values\n",
    "car_dataset.isnull().sum()"
   ]
  },
  {
   "cell_type": "code",
   "execution_count": 8,
   "id": "74c8ea53",
   "metadata": {},
   "outputs": [
    {
     "name": "stdout",
     "output_type": "stream",
     "text": [
      "Diesel      2153\n",
      "Petrol      2123\n",
      "CNG           40\n",
      "LPG           23\n",
      "Electric       1\n",
      "Name: fuel, dtype: int64\n",
      "Individual          3244\n",
      "Dealer               994\n",
      "Trustmark Dealer     102\n",
      "Name: seller_type, dtype: int64\n",
      "Manual       3892\n",
      "Automatic     448\n",
      "Name: transmission, dtype: int64\n"
     ]
    }
   ],
   "source": [
    "# checking the distribution of categorical data\n",
    "print(car_dataset.fuel.value_counts())\n",
    "print(car_dataset.seller_type.value_counts())\n",
    "print(car_dataset.transmission.value_counts())"
   ]
  },
  {
   "cell_type": "markdown",
   "id": "19540dc4",
   "metadata": {},
   "source": [
    "### Encoding the Categorical Data"
   ]
  },
  {
   "cell_type": "code",
   "execution_count": 49,
   "id": "d0875635",
   "metadata": {},
   "outputs": [],
   "source": [
    "# encoding \"fuel\" Column\n",
    "car_dataset.replace({'fuel':{'Petrol':0,'Diesel':1,'CNG':2, 'LPG':3, 'Electric':4}},inplace=True)\n",
    "\n",
    "# encoding \"seller_type\" Column\n",
    "car_dataset.replace({'seller_type':{'Dealer':0,'Individual':1, 'Trustmark Dealer':2}},inplace=True)\n",
    "\n",
    "# encoding \"transmission\" Column\n",
    "car_dataset.replace({'transmission':{'Manual':0,'Automatic':1}},inplace=True)\n",
    "\n",
    "#cleaning the dataset by removing owner category\n",
    "car_dataset=car_dataset.drop(['owner'],axis=1)"
   ]
  },
  {
   "cell_type": "code",
   "execution_count": 50,
   "id": "c84803ef",
   "metadata": {},
   "outputs": [
    {
     "data": {
      "text/html": [
       "<div>\n",
       "<style scoped>\n",
       "    .dataframe tbody tr th:only-of-type {\n",
       "        vertical-align: middle;\n",
       "    }\n",
       "\n",
       "    .dataframe tbody tr th {\n",
       "        vertical-align: top;\n",
       "    }\n",
       "\n",
       "    .dataframe thead th {\n",
       "        text-align: right;\n",
       "    }\n",
       "</style>\n",
       "<table border=\"1\" class=\"dataframe\">\n",
       "  <thead>\n",
       "    <tr style=\"text-align: right;\">\n",
       "      <th></th>\n",
       "      <th>name</th>\n",
       "      <th>year</th>\n",
       "      <th>selling_price</th>\n",
       "      <th>km_driven</th>\n",
       "      <th>fuel</th>\n",
       "      <th>seller_type</th>\n",
       "      <th>transmission</th>\n",
       "    </tr>\n",
       "  </thead>\n",
       "  <tbody>\n",
       "    <tr>\n",
       "      <th>0</th>\n",
       "      <td>Maruti 800 AC</td>\n",
       "      <td>2007</td>\n",
       "      <td>60000</td>\n",
       "      <td>70000</td>\n",
       "      <td>0</td>\n",
       "      <td>1</td>\n",
       "      <td>0</td>\n",
       "    </tr>\n",
       "    <tr>\n",
       "      <th>1</th>\n",
       "      <td>Maruti Wagon R LXI Minor</td>\n",
       "      <td>2007</td>\n",
       "      <td>135000</td>\n",
       "      <td>50000</td>\n",
       "      <td>0</td>\n",
       "      <td>1</td>\n",
       "      <td>0</td>\n",
       "    </tr>\n",
       "    <tr>\n",
       "      <th>2</th>\n",
       "      <td>Hyundai Verna 1.6 SX</td>\n",
       "      <td>2012</td>\n",
       "      <td>600000</td>\n",
       "      <td>100000</td>\n",
       "      <td>1</td>\n",
       "      <td>1</td>\n",
       "      <td>0</td>\n",
       "    </tr>\n",
       "    <tr>\n",
       "      <th>3</th>\n",
       "      <td>Datsun RediGO T Option</td>\n",
       "      <td>2017</td>\n",
       "      <td>250000</td>\n",
       "      <td>46000</td>\n",
       "      <td>0</td>\n",
       "      <td>1</td>\n",
       "      <td>0</td>\n",
       "    </tr>\n",
       "    <tr>\n",
       "      <th>4</th>\n",
       "      <td>Honda Amaze VX i-DTEC</td>\n",
       "      <td>2014</td>\n",
       "      <td>450000</td>\n",
       "      <td>141000</td>\n",
       "      <td>1</td>\n",
       "      <td>1</td>\n",
       "      <td>0</td>\n",
       "    </tr>\n",
       "    <tr>\n",
       "      <th>...</th>\n",
       "      <td>...</td>\n",
       "      <td>...</td>\n",
       "      <td>...</td>\n",
       "      <td>...</td>\n",
       "      <td>...</td>\n",
       "      <td>...</td>\n",
       "      <td>...</td>\n",
       "    </tr>\n",
       "    <tr>\n",
       "      <th>4335</th>\n",
       "      <td>Hyundai i20 Magna 1.4 CRDi (Diesel)</td>\n",
       "      <td>2014</td>\n",
       "      <td>409999</td>\n",
       "      <td>80000</td>\n",
       "      <td>1</td>\n",
       "      <td>1</td>\n",
       "      <td>0</td>\n",
       "    </tr>\n",
       "    <tr>\n",
       "      <th>4336</th>\n",
       "      <td>Hyundai i20 Magna 1.4 CRDi</td>\n",
       "      <td>2014</td>\n",
       "      <td>409999</td>\n",
       "      <td>80000</td>\n",
       "      <td>1</td>\n",
       "      <td>1</td>\n",
       "      <td>0</td>\n",
       "    </tr>\n",
       "    <tr>\n",
       "      <th>4337</th>\n",
       "      <td>Maruti 800 AC BSIII</td>\n",
       "      <td>2009</td>\n",
       "      <td>110000</td>\n",
       "      <td>83000</td>\n",
       "      <td>0</td>\n",
       "      <td>1</td>\n",
       "      <td>0</td>\n",
       "    </tr>\n",
       "    <tr>\n",
       "      <th>4338</th>\n",
       "      <td>Hyundai Creta 1.6 CRDi SX Option</td>\n",
       "      <td>2016</td>\n",
       "      <td>865000</td>\n",
       "      <td>90000</td>\n",
       "      <td>1</td>\n",
       "      <td>1</td>\n",
       "      <td>0</td>\n",
       "    </tr>\n",
       "    <tr>\n",
       "      <th>4339</th>\n",
       "      <td>Renault KWID RXT</td>\n",
       "      <td>2016</td>\n",
       "      <td>225000</td>\n",
       "      <td>40000</td>\n",
       "      <td>0</td>\n",
       "      <td>1</td>\n",
       "      <td>0</td>\n",
       "    </tr>\n",
       "  </tbody>\n",
       "</table>\n",
       "<p>4340 rows × 7 columns</p>\n",
       "</div>"
      ],
      "text/plain": [
       "                                     name  year  selling_price  km_driven  \\\n",
       "0                           Maruti 800 AC  2007          60000      70000   \n",
       "1                Maruti Wagon R LXI Minor  2007         135000      50000   \n",
       "2                    Hyundai Verna 1.6 SX  2012         600000     100000   \n",
       "3                  Datsun RediGO T Option  2017         250000      46000   \n",
       "4                   Honda Amaze VX i-DTEC  2014         450000     141000   \n",
       "...                                   ...   ...            ...        ...   \n",
       "4335  Hyundai i20 Magna 1.4 CRDi (Diesel)  2014         409999      80000   \n",
       "4336           Hyundai i20 Magna 1.4 CRDi  2014         409999      80000   \n",
       "4337                  Maruti 800 AC BSIII  2009         110000      83000   \n",
       "4338     Hyundai Creta 1.6 CRDi SX Option  2016         865000      90000   \n",
       "4339                     Renault KWID RXT  2016         225000      40000   \n",
       "\n",
       "      fuel  seller_type  transmission  \n",
       "0        0            1             0  \n",
       "1        0            1             0  \n",
       "2        1            1             0  \n",
       "3        0            1             0  \n",
       "4        1            1             0  \n",
       "...    ...          ...           ...  \n",
       "4335     1            1             0  \n",
       "4336     1            1             0  \n",
       "4337     0            1             0  \n",
       "4338     1            1             0  \n",
       "4339     0            1             0  \n",
       "\n",
       "[4340 rows x 7 columns]"
      ]
     },
     "execution_count": 50,
     "metadata": {},
     "output_type": "execute_result"
    }
   ],
   "source": [
    "car_dataset"
   ]
  },
  {
   "cell_type": "markdown",
   "id": "b4ba0004",
   "metadata": {},
   "source": [
    "# Splitting the dataset"
   ]
  },
  {
   "cell_type": "code",
   "execution_count": 51,
   "id": "1a92600b",
   "metadata": {},
   "outputs": [],
   "source": [
    "X = car_dataset.drop(['name','selling_price'],axis=1)\n",
    "Y = car_dataset['selling_price']"
   ]
  },
  {
   "cell_type": "markdown",
   "id": "3f06e06f",
   "metadata": {},
   "source": [
    "# Splitting the data into : Train(80%)  & Test(20%)"
   ]
  },
  {
   "cell_type": "code",
   "execution_count": 52,
   "id": "7d62a3bc",
   "metadata": {},
   "outputs": [],
   "source": [
    "X_train, X_test, Y_train, Y_test = train_test_split(X, Y, test_size = 0.1, random_state=2)"
   ]
  },
  {
   "cell_type": "markdown",
   "id": "81483002",
   "metadata": {},
   "source": [
    "# Training the Model"
   ]
  },
  {
   "cell_type": "code",
   "execution_count": 53,
   "id": "927a0972",
   "metadata": {},
   "outputs": [],
   "source": [
    "# loading the linear regression model\n",
    "lin_reg_model = LinearRegression()"
   ]
  },
  {
   "cell_type": "code",
   "execution_count": 54,
   "id": "c1549d06",
   "metadata": {
    "scrolled": true
   },
   "outputs": [
    {
     "data": {
      "text/plain": [
       "LinearRegression()"
      ]
     },
     "execution_count": 54,
     "metadata": {},
     "output_type": "execute_result"
    }
   ],
   "source": [
    "# traing the model\n",
    "lin_reg_model.fit(X_train,Y_train)"
   ]
  },
  {
   "cell_type": "markdown",
   "id": "52a13696",
   "metadata": {},
   "source": [
    "### Saving the Trained Model"
   ]
  },
  {
   "cell_type": "code",
   "execution_count": 56,
   "id": "b9260a12",
   "metadata": {},
   "outputs": [],
   "source": [
    "import pickle\n",
    "filename = 'CarPricePrediction_LinearRegression.train'\n",
    "pickle.dump(lin_reg_model, open(filename,'wb'))\n",
    "#loadMODEL = pickle.load(open('CarPricePrediction_LinearRegression.train','rb')) #loading the saved model"
   ]
  },
  {
   "cell_type": "markdown",
   "id": "d5474880",
   "metadata": {},
   "source": [
    "# Model Evaluation"
   ]
  },
  {
   "cell_type": "code",
   "execution_count": 58,
   "id": "bec00b75",
   "metadata": {},
   "outputs": [
    {
     "data": {
      "text/plain": [
       "array([715490.27625918, 360695.24584867, 577005.98129961, ...,\n",
       "       510545.28912759, 371731.51902224, 533849.33197342])"
      ]
     },
     "execution_count": 58,
     "metadata": {},
     "output_type": "execute_result"
    }
   ],
   "source": [
    "# prediction on Training data\n",
    "training_data_prediction = lin_reg_model.predict(X_train)\n",
    "training_data_prediction"
   ]
  },
  {
   "cell_type": "code",
   "execution_count": 61,
   "id": "f9d72807",
   "metadata": {},
   "outputs": [
    {
     "data": {
      "text/plain": [
       "array([ 4.81348996e+05,  1.42034969e+06,  1.84154860e+05,  1.37517825e+06,\n",
       "        7.09510360e+05,  4.83217652e+05,  3.83119931e+05, -3.07494352e+04,\n",
       "        3.01378791e+05,  5.30848909e+05,  2.61827895e+05,  1.30489021e+05,\n",
       "        1.28769931e+06,  5.84442990e+05, -1.17238939e+05,  1.56220516e+06,\n",
       "        4.90512638e+05,  5.55746800e+05,  1.46074817e+06,  4.38192211e+05,\n",
       "        4.52417617e+05,  3.15493735e+05,  1.34402538e+05,  1.16574832e+06,\n",
       "        1.56631628e+06,  4.83217652e+05,  1.44058365e+06,  6.39176077e+05,\n",
       "        3.63267190e+05,  9.13378383e+05,  3.55792294e+05,  7.53725389e+04,\n",
       "        7.19601536e+05,  5.27539941e+05,  7.31279891e+03,  1.46074817e+06,\n",
       "        4.88120604e+05,  2.59330840e+05,  5.38334269e+05,  5.65793638e+05,\n",
       "        7.91910277e+05,  6.49675180e+05,  1.39012804e+06,  6.73081116e+05,\n",
       "        1.52154343e+06,  3.36928987e+05,  5.19141419e+05,  5.27913618e+05,\n",
       "        5.67812843e+05,  2.91903546e+05,  5.39455436e+05,  3.70742085e+05,\n",
       "        4.60792966e+05,  6.94758313e+05,  3.71731519e+05,  2.16978524e+05,\n",
       "        6.06707955e+05,  4.57055519e+05,  5.31980540e+05,  5.80743429e+05,\n",
       "        5.18152052e+05,  6.41884164e+05,  5.22636989e+05,  6.14671331e+05,\n",
       "        3.78216980e+05, -3.82243304e+04,  4.73126611e+05,  2.54353000e+05,\n",
       "        4.73126611e+05,  6.06576087e+05,  1.64302119e+05,  3.75645036e+05,\n",
       "        5.40495429e+05,  5.75884815e+05,  6.19459478e+05,  3.99178317e+05,\n",
       "        3.33923264e+05,  5.24505645e+05,  1.42034969e+06,  5.72939059e+05,\n",
       "        6.28385083e+05,  6.45797681e+05,  4.58221023e+05,  1.42689171e+06,\n",
       "        2.87990029e+05,  2.73040238e+05,  4.73170813e+05,  5.36883492e+05,\n",
       "        1.65900288e+06,  3.74738434e+05,  4.86139896e+05,  2.13065007e+05,\n",
       "        8.41838669e+05,  6.23372996e+05,  1.49570013e+06,  4.88120604e+05,\n",
       "        7.76960487e+05,  3.27959112e+05,  5.14458806e+05,  1.85231825e+05,\n",
       "        6.28684079e+05, -4.21378476e+04,  6.39176077e+05,  4.54307505e+05,\n",
       "        3.90550625e+05,  4.05544617e+05,  6.68170690e+05,  2.19582436e+05,\n",
       "        3.35894287e+05,  6.53001985e+05,  5.72389312e+05,  1.52154343e+06,\n",
       "        4.73170813e+05,  5.90878807e+05,  3.67994071e+05,  4.05544617e+05,\n",
       "        7.82805175e+05,  6.29810781e+05,  3.90594827e+05,  2.16978524e+05,\n",
       "        4.51817518e+05,  4.81348996e+05,  4.34454764e+05,  1.38131157e+06,\n",
       "        5.31566499e+05,  4.04379113e+05,  5.20057571e+05,  1.37963916e+05,\n",
       "        3.98069722e+05,  6.68222367e+05,  3.34357043e+05,  5.55746800e+05,\n",
       "        1.39913213e+06,  4.86581423e+05,  5.56711331e+05,  4.76732191e+05,\n",
       "        1.87783990e+05,  3.88528428e+05,  3.00543945e+05,  6.45621612e+05,\n",
       "        3.79558553e+05,  3.42280944e+05,  6.67763417e+04,  4.62134540e+05,\n",
       "        5.76258559e+05,  4.45843176e+05,  2.92079616e+05,  6.96429361e+05,\n",
       "        9.55547559e+04,  3.38797778e+05,  6.79434777e+05,  7.78829278e+05,\n",
       "        6.11984583e+05,  5.80743429e+05, -9.85517009e+04,  5.97408605e+05,\n",
       "        2.69302791e+05,  3.86681309e+05,  5.53130654e+05,  6.21328270e+05,\n",
       "        6.45797681e+05,  7.31935046e+05,  1.43385624e+06,  4.03702533e+05,\n",
       "        4.90692547e+05,  1.32749232e+06,  5.39455436e+05,  1.41804069e+06,\n",
       "        1.46314007e+06,  5.70696590e+05,  3.68346211e+05,  4.53142002e+05,\n",
       "        3.98069722e+05,  5.40973079e+05,  7.35672493e+05,  4.71257820e+05,\n",
       "        6.91394542e+05,  1.79251909e+05,  2.23529860e+05,  5.14458806e+05,\n",
       "        3.11756288e+05,  4.54307505e+05,  5.55953512e+05,  5.06983911e+05,\n",
       "        3.30971735e+05,  5.93121276e+05,  6.23372996e+05,  1.42092152e+06,\n",
       "        2.40392644e+05,  5.45042272e+05,  3.83119931e+05,  8.66290836e+04,\n",
       "        3.53373756e+05,  4.39357715e+05,  2.76044466e+05,  1.41333823e+06,\n",
       "        1.98115217e+05,  2.65741413e+05,  3.21803127e+05,  2.33841308e+05,\n",
       "        6.75697262e+05,  3.49231984e+05,  1.24509104e+05,  6.68222367e+05,\n",
       "        1.54465972e+05,  4.69257296e+05,  1.55360896e+06,  4.80469639e+05,\n",
       "        3.14504301e+05,  5.05985671e+05,  1.38316055e+05,  1.53486192e+06,\n",
       "        6.98121948e+05,  5.99606737e+05,  5.19647031e+05,  2.05590112e+05,\n",
       "        3.29454092e+05,  4.16933029e+05,  5.18265513e+04,  1.41400350e+06,\n",
       "        8.39686007e+04,  7.15704873e+05,  1.54431349e+05,  5.98024227e+05,\n",
       "        6.20185768e+05,  3.53967840e+05,  1.83165426e+05,  8.29460823e+05,\n",
       "        1.90640321e+05,  5.76676506e+05,  1.79251909e+05,  1.53652889e+06,\n",
       "       -1.57996448e+04,  1.26927643e+05,  1.42034969e+06,  5.07495866e+04,\n",
       "        1.43526268e+06,  5.02714421e+05,  3.99928700e+05,  5.27121859e+05,\n",
       "        4.90692547e+05,  8.31329614e+05,  4.58221023e+05,  1.82989357e+05,\n",
       "        4.17680519e+05,  4.57969524e+05,  4.88076402e+05,  6.18528922e+05,\n",
       "        3.35569371e+05,  1.51942219e+06,  2.93069050e+05,  3.46092528e+05,\n",
       "        5.40016900e+05,  4.24407925e+05,  2.96229268e+05,  1.69578650e+06,\n",
       "        4.88120604e+05, -9.01532465e+04,  2.10493063e+05, -1.05850526e+05,\n",
       "        1.42638135e+06,  3.33433484e+05,  2.88757768e+05,  1.78373836e+04,\n",
       "        2.13065007e+05,  5.01157401e+05,  3.51878777e+05,  6.04509688e+05,\n",
       "        1.08877700e+05,  6.08444878e+05,  6.56636347e+05,  4.34454764e+05,\n",
       "        2.74205742e+05,  5.63924982e+05,  5.93121276e+05,  5.84480877e+05,\n",
       "        6.62504085e+03,  4.94606064e+05,  1.64126049e+05,  3.01378791e+05,\n",
       "        4.19504973e+05,  5.52756842e+05,  3.93166770e+05,  1.27019925e+06,\n",
       "        1.67505440e+06,  5.77005981e+05,  7.65312425e+05,  1.35328078e+06,\n",
       "        5.86591613e+05,  4.99509016e+05,  4.00641666e+05,  2.80691203e+05,\n",
       "        4.01983239e+05,  1.08064335e+05,  5.35717988e+05,  4.88120604e+05,\n",
       "        6.68095194e+05, -3.82243304e+04,  1.42075176e+05,  4.46832610e+05,\n",
       "        2.69302791e+05,  4.41929659e+05,  4.54307505e+05, -3.84004000e+04,\n",
       "        5.08460850e+05, -6.45625332e+04,  3.83119931e+05,  4.19624842e+05,\n",
       "       -4.21378476e+04,  4.98794586e+05,  3.85691875e+05,  1.23464923e+06,\n",
       "       -2.74916017e+05,  5.93014465e+04,  3.75645036e+05,  5.28243093e+05,\n",
       "       -8.49854353e+02,  1.56556879e+06,  3.59024197e+05,  1.00589440e+05,\n",
       "        3.28948547e+05,  1.40619913e+06,  4.28848660e+05,  3.96904218e+05,\n",
       "        1.41985155e+06,  7.84435382e+05,  1.66047843e+06,  6.28803165e+05,\n",
       "        3.00499675e+05,  3.26882148e+05,  6.89371088e+05,  5.39758404e+05,\n",
       "        7.55864926e+04,  1.41877433e+05,  4.41929659e+05,  4.78732715e+05,\n",
       "        5.56711331e+05,  1.56827223e+05,  2.42964588e+05,  3.30795665e+05,\n",
       "        3.11932357e+05,  2.26937833e+05,  5.17030750e+05,  4.13019512e+05,\n",
       "        3.82130497e+05,  1.15005104e+06,  6.63737430e+05,  4.39709854e+05,\n",
       "        1.61208921e+06,  4.42171604e+05,  2.95640993e+05,  7.66121956e+05,\n",
       "        3.33923264e+05,  5.07181654e+05,  7.43147389e+05,  1.42675509e+06,\n",
       "       -1.32188729e+05,  5.53504737e+05,  1.41877433e+05,  4.13371652e+05,\n",
       "        4.45667106e+05,  6.02069612e+05,  5.07181654e+05,  5.65464163e+05,\n",
       "        3.49306833e+05, -1.17238939e+05,  5.12074720e+05,  7.66001610e+05,\n",
       "        3.03489701e+05,  4.44666286e+05,  4.89025134e+05,  2.74205742e+05,\n",
       "        3.90550625e+05, -3.31153800e+05,  5.14458806e+05,  4.11854008e+05,\n",
       "        1.40619913e+06,  5.23758156e+05,  5.76258492e+05,  6.68170690e+05,\n",
       "        2.87905702e+05,  4.81964618e+05,  5.03070394e+05,  5.48271904e+05,\n",
       "        3.79558553e+05,  1.71777014e+05,  1.64625849e+05,  3.59903554e+05,\n",
       "        5.28159856e+04,  5.61353039e+05,  3.23144700e+05,  6.19459478e+05,\n",
       "        1.57816658e+05,  5.26374437e+05,  4.85339095e+05,  5.34817093e+05,\n",
       "        8.40959447e+05,  5.55746800e+05,  6.45621612e+05,  1.47301623e+05,\n",
       "        4.35949743e+05, -1.76683008e+04,  5.40950415e+05,  4.58221023e+05,\n",
       "        7.39409941e+05,  1.05385581e+04,  4.65519848e+05,  6.13853375e+05,\n",
       "        5.38752283e+05,  1.55884139e+06,  3.47020163e+05,  8.92010273e+04,\n",
       "        5.80040277e+05,  3.44403882e+05,  4.76732191e+05,  1.41325601e+06,\n",
       "        4.00488260e+05,  1.42248153e+06,  4.58221023e+05,  2.56112747e+04,\n",
       "        4.49580691e+05,  4.13943071e+05,  2.54883485e+04,  6.23196926e+05,\n",
       "        5.39081691e+05,  3.74738434e+05,  3.73113902e+04,  5.70696590e+05,\n",
       "        1.08873424e+06,  8.25349698e+05,  4.65695918e+05,  2.02842098e+05,\n",
       "        5.10545289e+05,  1.38785906e+06])"
      ]
     },
     "execution_count": 61,
     "metadata": {},
     "output_type": "execute_result"
    }
   ],
   "source": [
    "# prediction on Test data\n",
    "test_data_prediction = lin_reg_model.predict(X_test)\n",
    "test_data_prediction"
   ]
  },
  {
   "cell_type": "code",
   "execution_count": 62,
   "id": "646d1b61",
   "metadata": {},
   "outputs": [
    {
     "name": "stdout",
     "output_type": "stream",
     "text": [
      "R squared Error (Train Data) :  0.4270700386071755\n",
      "R squared Error (Test Data) :  0.5035628808178235\n"
     ]
    }
   ],
   "source": [
    "# R squared Error \n",
    "error_score1 = metrics.r2_score(Y_train, training_data_prediction)\n",
    "print(\"R squared Error (Train Data) : \", error_score1)\n",
    "error_score2 = metrics.r2_score(Y_test, test_data_prediction)\n",
    "print(\"R squared Error (Test Data) : \", error_score2)"
   ]
  },
  {
   "cell_type": "markdown",
   "id": "ac7ff749",
   "metadata": {},
   "source": [
    "# Visualizing the actual and predicted prices"
   ]
  },
  {
   "cell_type": "code",
   "execution_count": 63,
   "id": "f6a268f2",
   "metadata": {},
   "outputs": [
    {
     "data": {
      "image/png": "[encoded data removed]",
      "text/plain": [
       "<Figure size 432x288 with 1 Axes>"
      ]
     },
     "metadata": {
      "needs_background": "light"
     },
     "output_type": "display_data"
    }
   ],
   "source": [
    "# on train data\n",
    "plt.scatter(Y_train, training_data_prediction)\n",
    "plt.xlabel(\"Actual Price\")\n",
    "plt.ylabel(\"Predicted Price\")\n",
    "plt.title(\" Actual Prices vs Predicted Prices\")\n",
    "plt.show()"
   ]
  },
  {
   "cell_type": "code",
   "execution_count": 64,
   "id": "e3d33c34",
   "metadata": {},
   "outputs": [
    {
     "data": {
      "image/png": "[encoded data removed]",
      "text/plain": [
       "<Figure size 432x288 with 1 Axes>"
      ]
     },
     "metadata": {
      "needs_background": "light"
     },
     "output_type": "display_data"
    }
   ],
   "source": [
    "# on test data\n",
    "plt.scatter(Y_test, test_data_prediction)\n",
    "plt.xlabel(\"Actual Price\")\n",
    "plt.ylabel(\"Predicted Price\")\n",
    "plt.title(\" Actual Prices vs Predicted Prices\")\n",
    "plt.show()"
   ]
  },
  {
   "cell_type": "code",
   "execution_count": null,
   "id": "2d0e9e0a",
   "metadata": {},
   "outputs": [],
   "source": []
  }
 ],
 "metadata": {
  "kernelspec": {
   "display_name": "Python 3 (ipykernel)",
   "language": "python",
   "name": "python3"
  },
  "language_info": {
   "codemirror_mode": {
    "name": "ipython",
    "version": 3
   },
   "file_extension": ".py",
   "mimetype": "text/x-python",
   "name": "python",
   "nbconvert_exporter": "python",
   "pygments_lexer": "ipython3",
   "version": "3.9.7"
  }
 },
 "nbformat": 4,
 "nbformat_minor": 5
}
