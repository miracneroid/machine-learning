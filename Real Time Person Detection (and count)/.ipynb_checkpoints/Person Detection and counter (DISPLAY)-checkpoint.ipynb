{
 "cells": [
  {
   "cell_type": "markdown",
   "id": "de79998c",
   "metadata": {},
   "source": [
    "# Importing and Loading Class"
   ]
  },
  {
   "cell_type": "code",
   "execution_count": 1,
   "id": "a5b2aaa1",
   "metadata": {},
   "outputs": [],
   "source": [
    "import cv2\n",
    "import numpy as np"
   ]
  },
  {
   "cell_type": "code",
   "execution_count": 2,
   "id": "715776c0",
   "metadata": {},
   "outputs": [],
   "source": [
    "config_file = 'ssd_mobilenet_v3_large_coco_2020_01_14.pbtxt'\n",
    "frozen_model = 'frozen_inference_graph.pb'"
   ]
  },
  {
   "cell_type": "code",
   "execution_count": 3,
   "id": "4390d45e",
   "metadata": {},
   "outputs": [],
   "source": [
    "model = cv2.dnn_DetectionModel(frozen_model,config_file)"
   ]
  },
  {
   "cell_type": "code",
   "execution_count": 4,
   "id": "4593e1f5",
   "metadata": {},
   "outputs": [],
   "source": [
    "class_labels =[]\n",
    "file_name = 'labels.txt'\n",
    "with open (file_name,'rt') as fpt:\n",
    "    class_labels = fpt.read().rstrip('\\n').split('\\n')"
   ]
  },
  {
   "cell_type": "code",
   "execution_count": 5,
   "id": "1f035a94",
   "metadata": {},
   "outputs": [
    {
     "data": {
      "text/plain": [
       "<dnn_Model 00000281BB3125B0>"
      ]
     },
     "execution_count": 5,
     "metadata": {},
     "output_type": "execute_result"
    }
   ],
   "source": [
    "model.setInputSize(320,320)\n",
    "model.setInputScale(1.0/127.5)\n",
    "model.setInputMean((127.5,127.5,127.5))\n",
    "model.setInputSwapRB(True)"
   ]
  },
  {
   "cell_type": "markdown",
   "id": "14e81210",
   "metadata": {},
   "source": [
    "# Display Configurations"
   ]
  },
  {
   "cell_type": "code",
   "execution_count": 6,
   "id": "da7e6d83",
   "metadata": {},
   "outputs": [],
   "source": [
    "cap = cv2.VideoCapture(0)\n",
    "\n",
    "# Resolution of Display\n",
    "def change_resolution():\n",
    "    cap.set(3,1920)\n",
    "    cap.set(4,1080)\n",
    "change_resolution()\n",
    "\n",
    "# font\n",
    "font = cv2.FONT_HERSHEY_SIMPLEX\n",
    "  \n",
    "# org\n",
    "org = (10, 50)\n",
    "  \n",
    "# fontScale\n",
    "fontScale = 1\n",
    "   \n",
    "# Yellow color in BGR\n",
    "color = (0,255,255)\n",
    "  \n",
    "# Line thickness of 2 px\n",
    "thickness = 2\n",
    "\n",
    "text = 'People = '\n",
    "\n",
    "# Box Orientation\n",
    "x1,y1,w1,h1 = 0,0,235,75"
   ]
  },
  {
   "cell_type": "markdown",
   "id": "a7488d3f",
   "metadata": {},
   "source": [
    "# Video / Webcam - Detection"
   ]
  },
  {
   "cell_type": "code",
   "execution_count": 7,
   "id": "1abd371e",
   "metadata": {},
   "outputs": [],
   "source": [
    "\n",
    "if not cap.isOpened():\n",
    "    cap = cv2.VideoCapture(0)\n",
    "if not cap.isOpened():\n",
    "    raise IOError(\"Can't open Webcam / Video\")\n",
    "\n",
    "    \n",
    "while True:\n",
    "    c=0\n",
    "    ret, frame = cap.read()\n",
    "    classIndex, confidence, bbox = model.detect(frame, confThreshold=0.55)\n",
    "\n",
    "    if(len(classIndex)!=0):\n",
    "        model_zip = zip(classIndex.flatten(), confidence.flatten(), bbox)\n",
    "        for classInd, conf, boxes in model_zip:\n",
    "            if(classInd<=1):  # 1 => Person\n",
    "                c = c+1\n",
    "                cv2.rectangle(frame,boxes,(0,255,0),2)\n",
    "                count = len(classIndex)\n",
    "                \n",
    "    strx = 'People = '+str(c)\n",
    "    \n",
    "    cv2.rectangle(frame, (x1, x1), (x1 + w1, y1 + h1), (0,0,0), -1)\n",
    "    cv2.putText(frame, strx, org, font, fontScale, color, thickness, cv2.LINE_AA)\n",
    "    #cv2.putText(frame, strx, org, Font, fontScale, color, thickness, cv2.LINE_AA)\n",
    "    cv2.imshow('Person Detection', frame)\n",
    "    count = 0\n",
    "    if cv2.waitKey(2) & 0xFF == ord('x'):\n",
    "        break\n",
    "\n",
    "cap.release()\n",
    "cv2.destroyAllWindows()"
   ]
  },
  {
   "cell_type": "code",
   "execution_count": null,
   "id": "6110d5c9",
   "metadata": {},
   "outputs": [],
   "source": []
  }
 ],
 "metadata": {
  "kernelspec": {
   "display_name": "Python 3 (ipykernel)",
   "language": "python",
   "name": "python3"
  },
  "language_info": {
   "codemirror_mode": {
    "name": "ipython",
    "version": 3
   },
   "file_extension": ".py",
   "mimetype": "text/x-python",
   "name": "python",
   "nbconvert_exporter": "python",
   "pygments_lexer": "ipython3",
   "version": "3.9.7"
  },
  "vscode": {
   "interpreter": {
    "hash": "6de6791a6b9454d695432bdafce512c39115cdf3bde6cbc64350dc19a9b62fbd"
   }
  }
 },
 "nbformat": 4,
 "nbformat_minor": 5
}
