{
 "cells": [
  {
   "cell_type": "markdown",
   "id": "de79998c",
   "metadata": {},
   "source": [
    "# Importing and loading class"
   ]
  },
  {
   "cell_type": "code",
   "execution_count": 1,
   "id": "a5b2aaa1",
   "metadata": {},
   "outputs": [],
   "source": [
    "import cv2\n",
    "import matplotlib.pyplot as plt"
   ]
  },
  {
   "cell_type": "code",
   "execution_count": 2,
   "id": "715776c0",
   "metadata": {},
   "outputs": [],
   "source": [
    "config_file = 'ssd_mobilenet_v3_large_coco_2020_01_14.pbtxt'\n",
    "frozen_model = 'frozen_inference_graph.pb'"
   ]
  },
  {
   "cell_type": "code",
   "execution_count": 3,
   "id": "4390d45e",
   "metadata": {},
   "outputs": [],
   "source": [
    "model = cv2.dnn_DetectionModel(frozen_model,config_file)"
   ]
  },
  {
   "cell_type": "code",
   "execution_count": 4,
   "id": "4593e1f5",
   "metadata": {},
   "outputs": [
    {
     "name": "stdout",
     "output_type": "stream",
     "text": [
      "Class Labels =>\n",
      " ['person', 'bicycle', 'car', 'motorbike', 'aeroplane', 'bus', 'train', 'truck', 'boat', 'traffic light', 'fire hydrant', 'stop sign', 'parking meter', 'bench', 'bird', 'cat', 'dog', 'horse', 'sheep', 'cow', 'elephant', 'bear', 'zebra', 'giraffe', 'backpack', 'umbrella', 'handbag', 'tie', 'suitcase', 'frisbee', 'skis', 'snowboard', 'sports ball', 'kite', 'baseball bat', 'baseball glove', 'skateboard', 'surfboard', 'tennis racket', 'bottle', 'wine glass', 'cup', 'fork', 'knife', 'spoon', 'bowl', 'banana', 'apple', 'sandwich', 'orange', 'broccoli', 'carrot', 'hot dog', 'pizza', 'donut', 'cake', 'chair', 'sofa', 'pottedplant', 'bed', 'diningtable', 'toilet', 'tvmonitor', 'laptop', 'mouse', 'remote', 'keyboard', 'cell phone', 'microwave', 'oven', 'toaster', 'sink', 'refrigerator', 'book', 'clock', 'vase', 'scissors', 'teddy bear', 'hair drier', 'toothbrush']\n",
      "\n",
      "Length of Class Labels =>  80\n"
     ]
    }
   ],
   "source": [
    "class_labels =[]\n",
    "file_name = 'labels.txt'\n",
    "with open (file_name,'rt') as fpt:\n",
    "    class_labels = fpt.read().rstrip('\\n').split('\\n')\n",
    "print(\"Class Labels =>\\n\",class_labels)\n",
    "print(\"\\nLength of Class Labels => \",len(class_labels))"
   ]
  },
  {
   "cell_type": "code",
   "execution_count": 5,
   "id": "1f035a94",
   "metadata": {},
   "outputs": [
    {
     "data": {
      "text/plain": [
       "<dnn_Model 00000278BE69C210>"
      ]
     },
     "execution_count": 5,
     "metadata": {},
     "output_type": "execute_result"
    }
   ],
   "source": [
    "model.setInputSize(320,320)\n",
    "model.setInputScale(1.0/127.5)\n",
    "model.setInputMean((127.5,127.5,127.5))\n",
    "model.setInputSwapRB(True)"
   ]
  },
  {
   "cell_type": "markdown",
   "id": "53f52783",
   "metadata": {},
   "source": [
    "# Testing (Example)"
   ]
  },
  {
   "cell_type": "code",
   "execution_count": 6,
   "id": "dc02f83a",
   "metadata": {
    "scrolled": true
   },
   "outputs": [],
   "source": [
    "#img = cv2.imread('img1.jpg')\n",
    "#plt.imshow(img)\n",
    "#plt.imshow(cv2.cvtColor(img,cv2.COLOR_BGR2RGB))"
   ]
  },
  {
   "cell_type": "code",
   "execution_count": 7,
   "id": "92eaecd3",
   "metadata": {},
   "outputs": [],
   "source": [
    "#classIndex, confidence, bbox = model.detect(img,confThreshold=0.5)\n",
    "#print(classIndex)"
   ]
  },
  {
   "cell_type": "markdown",
   "id": "a7488d3f",
   "metadata": {},
   "source": [
    "# Video / Webcam - Detection"
   ]
  },
  {
   "cell_type": "code",
   "execution_count": 10,
   "id": "1abd371e",
   "metadata": {},
   "outputs": [],
   "source": [
    "font_scale = 3\n",
    "font = cv2.FONT_HERSHEY_COMPLEX_SMALL\n",
    "\n",
    "cap = cv2.VideoCapture(1)\n",
    "if not cap.isOpened():\n",
    "    cap = cv2.VideoCapture(0)\n",
    "if not cap.isOpened():\n",
    "    raise IOError(\"Can't open Webcam / Video\")\n",
    "    \n",
    "while True:\n",
    "    ret, frame = cap.read()\n",
    "    classIndex, confidence, bbox = model.detect(frame, confThreshold=0.55)\n",
    "    if(len(classIndex)!=0):\n",
    "        for classInd, conf, boxes in zip(classIndex.flatten(), confidence.flatten(), bbox):\n",
    "            if(classInd<=1):  # 1 = Person\n",
    "                cv2.rectangle(frame,boxes,(255,0,0),2)\n",
    "                cv2.putText(frame,class_labels[classInd-1],(boxes[0]+10,boxes[1]+40), font, fontScale=font_scale, color=(0,255,0))\n",
    "\n",
    "    cv2.imshow('Person Detection', frame)\n",
    "\n",
    "    if cv2.waitKey(2) & 0xFF == ord('q'):\n",
    "        break\n",
    "\n",
    "cap.release()\n",
    "cv2.destroyAllWindows()"
   ]
  },
  {
   "cell_type": "code",
   "execution_count": null,
   "id": "8e89c0f3",
   "metadata": {},
   "outputs": [],
   "source": []
  },
  {
   "cell_type": "code",
   "execution_count": null,
   "id": "9ea2b2ae",
   "metadata": {},
   "outputs": [],
   "source": []
  }
 ],
 "metadata": {
  "kernelspec": {
   "display_name": "Python 3 (ipykernel)",
   "language": "python",
   "name": "python3"
  },
  "language_info": {
   "codemirror_mode": {
    "name": "ipython",
    "version": 3
   },
   "file_extension": ".py",
   "mimetype": "text/x-python",
   "name": "python",
   "nbconvert_exporter": "python",
   "pygments_lexer": "ipython3",
   "version": "3.9.7"
  },
  "vscode": {
   "interpreter": {
    "hash": "6de6791a6b9454d695432bdafce512c39115cdf3bde6cbc64350dc19a9b62fbd"
   }
  }
 },
 "nbformat": 4,
 "nbformat_minor": 5
}
